{
 "cells": [
  {
   "cell_type": "markdown",
   "metadata": {},
   "source": [
    "# Image Classification with PyTorch"
   ]
  },
  {
   "cell_type": "markdown",
   "metadata": {},
   "source": [
    "## Data loading\n"
   ]
  },
  {
   "cell_type": "code",
   "execution_count": 1,
   "metadata": {},
   "outputs": [],
   "source": [
    "import numpy as np\n",
    "import matplotlib.pyplot as plt\n",
    "\n",
    "import torch\n",
    "import torch.nn as nn\n",
    "import torch.nn.functional as F\n",
    "import torch.optim as optim\n",
    "from torch.utils.data import DataLoader\n",
    "import torchvision\n",
    "from torchvision import datasets, transforms"
   ]
  },
  {
   "cell_type": "code",
   "execution_count": 2,
   "metadata": {},
   "outputs": [
    {
     "name": "stdout",
     "output_type": "stream",
     "text": [
      "Downloading http://yann.lecun.com/exdb/mnist/train-images-idx3-ubyte.gz\n",
      "Downloading http://yann.lecun.com/exdb/mnist/train-images-idx3-ubyte.gz to data/MNIST/raw/train-images-idx3-ubyte.gz\n"
     ]
    },
    {
     "data": {
      "application/vnd.jupyter.widget-view+json": {
       "model_id": "00684d5dd60a422089533fc4080c0326",
       "version_major": 2,
       "version_minor": 0
      },
      "text/plain": [
       "  0%|          | 0/9912422 [00:00<?, ?it/s]"
      ]
     },
     "metadata": {},
     "output_type": "display_data"
    },
    {
     "name": "stdout",
     "output_type": "stream",
     "text": [
      "Extracting data/MNIST/raw/train-images-idx3-ubyte.gz to data/MNIST/raw\n",
      "\n",
      "Downloading http://yann.lecun.com/exdb/mnist/train-labels-idx1-ubyte.gz\n",
      "Downloading http://yann.lecun.com/exdb/mnist/train-labels-idx1-ubyte.gz to data/MNIST/raw/train-labels-idx1-ubyte.gz\n"
     ]
    },
    {
     "data": {
      "application/vnd.jupyter.widget-view+json": {
       "model_id": "ed57259ed0aa48778d8b63cfe52e7442",
       "version_major": 2,
       "version_minor": 0
      },
      "text/plain": [
       "  0%|          | 0/28881 [00:00<?, ?it/s]"
      ]
     },
     "metadata": {},
     "output_type": "display_data"
    },
    {
     "name": "stdout",
     "output_type": "stream",
     "text": [
      "Extracting data/MNIST/raw/train-labels-idx1-ubyte.gz to data/MNIST/raw\n",
      "\n",
      "Downloading http://yann.lecun.com/exdb/mnist/t10k-images-idx3-ubyte.gz\n",
      "Downloading http://yann.lecun.com/exdb/mnist/t10k-images-idx3-ubyte.gz to data/MNIST/raw/t10k-images-idx3-ubyte.gz\n"
     ]
    },
    {
     "data": {
      "application/vnd.jupyter.widget-view+json": {
       "model_id": "5e66597a43434a829d7e0665dce35bde",
       "version_major": 2,
       "version_minor": 0
      },
      "text/plain": [
       "  0%|          | 0/1648877 [00:00<?, ?it/s]"
      ]
     },
     "metadata": {},
     "output_type": "display_data"
    },
    {
     "name": "stdout",
     "output_type": "stream",
     "text": [
      "Extracting data/MNIST/raw/t10k-images-idx3-ubyte.gz to data/MNIST/raw\n",
      "\n",
      "Downloading http://yann.lecun.com/exdb/mnist/t10k-labels-idx1-ubyte.gz\n",
      "Downloading http://yann.lecun.com/exdb/mnist/t10k-labels-idx1-ubyte.gz to data/MNIST/raw/t10k-labels-idx1-ubyte.gz\n"
     ]
    },
    {
     "data": {
      "application/vnd.jupyter.widget-view+json": {
       "model_id": "79274c45975a4e6094c9a61fe0ffb412",
       "version_major": 2,
       "version_minor": 0
      },
      "text/plain": [
       "  0%|          | 0/4542 [00:00<?, ?it/s]"
      ]
     },
     "metadata": {},
     "output_type": "display_data"
    },
    {
     "name": "stdout",
     "output_type": "stream",
     "text": [
      "Extracting data/MNIST/raw/t10k-labels-idx1-ubyte.gz to data/MNIST/raw\n",
      "\n"
     ]
    }
   ],
   "source": [
    "# torchvision contains convinience functions for popular datasets\n",
    "ds_train = datasets.MNIST('data', train=True, download=True)"
   ]
  },
  {
   "cell_type": "markdown",
   "metadata": {},
   "source": [
    "Each sample is a 28x28 image"
   ]
  },
  {
   "cell_type": "code",
   "execution_count": 3,
   "metadata": {},
   "outputs": [
    {
     "name": "stdout",
     "output_type": "stream",
     "text": [
      "(<PIL.Image.Image image mode=L size=28x28 at 0x12E5EE850>, 5)\n"
     ]
    },
    {
     "data": {
      "image/png": "[encoded data removed]",
      "text/plain": [
       "<PIL.Image.Image image mode=L size=120x120>"
      ]
     },
     "execution_count": 3,
     "metadata": {},
     "output_type": "execute_result"
    }
   ],
   "source": [
    "# if we index this dataset, we get a single data point: a PIL image and an Integer\n",
    "print(ds_train[0])\n",
    "ds_train[0][0].resize((120,120))"
   ]
  },
  {
   "cell_type": "markdown",
   "metadata": {},
   "source": [
    "Let's transform the data to something that our Pytorch models will understand\n",
    "for this purpose, we can supply a transform function to the datase"
   ]
  },
  {
   "cell_type": "code",
   "execution_count": 4,
   "metadata": {},
   "outputs": [],
   "source": [
    "transform = transforms.Compose([\n",
    "    transforms.ToTensor(),\n",
    "])\n",
    "ds_train = datasets.MNIST('data', train=True, download=True, transform=transform)"
   ]
  },
  {
   "cell_type": "markdown",
   "metadata": {},
   "source": [
    "The image is now a `torch.Tensor`"
   ]
  },
  {
   "cell_type": "code",
   "execution_count": 5,
   "metadata": {},
   "outputs": [
    {
     "data": {
      "text/plain": [
       "torch.Tensor"
      ]
     },
     "execution_count": 5,
     "metadata": {},
     "output_type": "execute_result"
    }
   ],
   "source": [
    "type(ds_train[0][0])"
   ]
  },
  {
   "cell_type": "markdown",
   "metadata": {},
   "source": [
    "The normalization is something you learned about in the lecture. Normalizing with $\\mu=0, \\sigma=1$ corresponds to no normalization. Let's compute the proper normalization constants!"
   ]
  },
  {
   "cell_type": "code",
   "execution_count": 6,
   "metadata": {},
   "outputs": [],
   "source": [
    "# lets get only the images \n",
    "ims_train = ds_train.data\n",
    "ims_train = ims_train.float() / 255."
   ]
  },
  {
   "cell_type": "code",
   "execution_count": 9,
   "metadata": {},
   "outputs": [],
   "source": [
    "#########################################################################\n",
    "# TODO: calculate the mean and std of MNIST images\n",
    "# hint: to look for operations on pytorch tensor, refer to the official PyTorch docs \n",
    "# https://pytorch.org/docs/stable/\n",
    "#########################################################################\n",
    "mu = torch.mean(ims_train)\n",
    "std = torch.std(ims_train)"
   ]
  },
  {
   "cell_type": "markdown",
   "metadata": {},
   "source": [
    "We normalize the data as below."
   ]
  },
  {
   "cell_type": "code",
   "execution_count": 10,
   "metadata": {},
   "outputs": [],
   "source": [
    "transform = transforms.Compose([\n",
    "    transforms.ToTensor(),\n",
    "    transforms.Normalize(mu, std)\n",
    "])\n",
    "ds_train = datasets.MNIST('data', train=True, download=True, transform=transform)\n",
    "ds_test = datasets.MNIST('data', train=False, download=True, transform=transform)"
   ]
  },
  {
   "cell_type": "code",
   "execution_count": 11,
   "metadata": {},
   "outputs": [
    {
     "data": {
      "text/plain": [
       "(tensor(-0.4241), tensor(2.8215))"
      ]
     },
     "execution_count": 11,
     "metadata": {},
     "output_type": "execute_result"
    }
   ],
   "source": [
    "ds_train[0][0].min(), ds_train[0][0].max()"
   ]
  },
  {
   "cell_type": "markdown",
   "metadata": {},
   "source": [
    "Next, we want to receive mini-batches, not only single data points.\n",
    "We use PyTorch's DataLoader class. Build a dataloader with a batch size of 64 and 4 workers (number of subprocess that peform the dataloading). Important: you need to shuffle the training data, not the test data.\n",
    "\n",
    "**NOTE**: if you encounter some unexpected errors in data loading, try setting `NUM_WORKERS = 0`"
   ]
  },
  {
   "cell_type": "code",
   "execution_count": 13,
   "metadata": {},
   "outputs": [],
   "source": [
    "BATCH_SIZE = 64\n",
    "NUM_WORKERS = 4\n",
    "#########################################################################\n",
    "# TODO: Build a dataloader for both train and test data.\n",
    "#########################################################################\n",
    "dl_train = torch.utils.data.DataLoader(ds_train, batch_size=BATCH_SIZE, num_workers=NUM_WORKERS, shuffle=True)\n",
    "dl_test = torch.utils.data.DataLoader(ds_train, batch_size=BATCH_SIZE, num_workers=NUM_WORKERS)"
   ]
  },
  {
   "cell_type": "markdown",
   "metadata": {},
   "source": [
    "## MLP in Pytorch\n",
    "\n",
    "Ok, the dataloading works. Let's build our model, PyTorch makes this very easy. We will build replicate the model from our last exercises. However, now, we add another variable called `nLayer` that indicates how many linear layers that in your network. Please adapt your code from last exercise accordingly to allow different number of layers."
   ]
  },
  {
   "cell_type": "code",
   "execution_count": 14,
   "metadata": {},
   "outputs": [],
   "source": [
    "# These are the parameters to be used\n",
    "nInput = 784\n",
    "nOutput = 10\n",
    "nLayer = 2\n",
    "nHidden = 16\n",
    "act_fn = nn.ReLU()"
   ]
  },
  {
   "cell_type": "code",
   "execution_count": 24,
   "metadata": {},
   "outputs": [],
   "source": [
    "#########################################################################\n",
    "# TODO: Implement the __init__ of the MLP class. \n",
    "# insert the activation after every linear layer. Important: the number of \n",
    "# hidden layers should be variable!\n",
    "#########################################################################\n",
    "\n",
    "class MLP(nn.Module):\n",
    "    def __init__(self, nInput, nOutput, nLayer, nHidden, act_fn):\n",
    "        super(MLP, self).__init__()\n",
    "        layers = [] \n",
    "        \n",
    "        ##### implement this part #####\n",
    "        if (nLayer == 0):\n",
    "            layers.append(nn.Linear(nInput, nOutput))\n",
    "        else:\n",
    "            layers.append(nn.Linear(nInput, nHidden))\n",
    "            layers.append(act_fn)\n",
    "            for i in range(nLayer - 1):\n",
    "                layers.append(nn.Linear(nHidden, nHidden))\n",
    "                layers.append(act_fn)\n",
    "            layers.append(nn.Linear(nHidden, nOutput))\n",
    "            \n",
    "        \n",
    "        ###############################\n",
    "        \n",
    "        self.model = nn.Sequential(*layers)\n",
    "\n",
    "    def forward(self, x):\n",
    "        x = torch.flatten(x, 1)\n",
    "        return self.model(x)"
   ]
  },
  {
   "cell_type": "code",
   "execution_count": 25,
   "metadata": {
    "scrolled": true
   },
   "outputs": [
    {
     "data": {
      "text/plain": [
       "torch.Size([1, 10])"
      ]
     },
     "execution_count": 25,
     "metadata": {},
     "output_type": "execute_result"
    }
   ],
   "source": [
    "# Let's test if the forward pass works\n",
    "# this should print torch.Size([1, 10])\n",
    "t = torch.randn(1,1,28,28)\n",
    "mlp = MLP(nInput, nOutput, nLayer, nHidden, act_fn)\n",
    "mlp(t).shape"
   ]
  },
  {
   "cell_type": "code",
   "execution_count": 26,
   "metadata": {},
   "outputs": [
    {
     "data": {
      "text/plain": [
       "MLP(\n",
       "  (model): Sequential(\n",
       "    (0): Linear(in_features=784, out_features=16, bias=True)\n",
       "    (1): ReLU()\n",
       "    (2): Linear(in_features=16, out_features=16, bias=True)\n",
       "    (3): ReLU()\n",
       "    (4): Linear(in_features=16, out_features=10, bias=True)\n",
       "  )\n",
       ")"
      ]
     },
     "execution_count": 26,
     "metadata": {},
     "output_type": "execute_result"
    }
   ],
   "source": [
    "mlp"
   ]
  },
  {
   "cell_type": "markdown",
   "metadata": {},
   "source": [
    "We already implemented the test function for you"
   ]
  },
  {
   "cell_type": "code",
   "execution_count": 27,
   "metadata": {},
   "outputs": [],
   "source": [
    "def test(model, dl_test, device='cpu'):\n",
    "    model.eval()\n",
    "    test_loss = 0\n",
    "    correct = 0\n",
    "    with torch.no_grad():\n",
    "        for data, target in dl_test:\n",
    "            data, target = data.to(device), target.to(device)\n",
    "            output = model(data)\n",
    "            test_loss += F.cross_entropy(output, target, reduction='sum').item()  # sum up batch loss\n",
    "            pred = output.argmax(dim=1, keepdim=True)  # get the index of the max log-probability\n",
    "            correct += pred.eq(target.view_as(pred)).sum().item()\n",
    "\n",
    "    test_loss /= len(dl_test.dataset)\n",
    "\n",
    "    print('\\nTest set: Average loss: {:.4f}, Accuracy: {}/{} ({:.3f}%)\\n'.format(\n",
    "        test_loss, correct, len(dl_test.dataset),\n",
    "        100. * correct / len(dl_test.dataset)))"
   ]
  },
  {
   "cell_type": "markdown",
   "metadata": {},
   "source": [
    "Now you only need to implement the training and you are good to go"
   ]
  },
  {
   "cell_type": "code",
   "execution_count": 28,
   "metadata": {},
   "outputs": [],
   "source": [
    "#########################################################################\n",
    "# TODO: Implement the missing part of the training function. As a loss function we want to use cross entropy\n",
    "# It can be called with F.cross_entropy().\n",
    "# Hint: Pass through the model -> Backpropagate gradients -> Take gradient step\n",
    "#########################################################################\n",
    "\n",
    "def train(model, dl_train, optimizer, epoch, log_interval=100, device='cpu'):\n",
    "    model.train()\n",
    "    correct = 0\n",
    "    for batch_idx, (data, target) in enumerate(dl_train):\n",
    "        data, target = data.to(device), target.to(device)\n",
    "        \n",
    "        # first we need to zero the gradient, otherwise PyTorch would accumulate them\n",
    "        optimizer.zero_grad()         \n",
    "        \n",
    "        ##### implement this part #####\n",
    "        output = model(data)\n",
    "        loss = F.cross_entropy(output, target)\n",
    "        loss.backward()\n",
    "        optimizer.step()\n",
    "        \n",
    "        ###############################\n",
    "\n",
    "        # stats\n",
    "        pred = output.argmax(dim=1, keepdim=True)  # get the index of the max log-probability\n",
    "        correct += pred.eq(target.view_as(pred)).sum().item()\n",
    "\n",
    "        if batch_idx % log_interval == 0:\n",
    "            print('Train Epoch: {} [{}/{} ({:.0f}%)]\\tLoss: {:.6f}'.format(\n",
    "                epoch, batch_idx * len(data), len(dl_train.dataset),\n",
    "                100. * batch_idx / len(dl_train), loss.item()))\n",
    "\n",
    "    print('\\nTrain set: Average loss: {:.4f}, Accuracy: {}/{} ({:.1f}%)\\n'.format(\n",
    "        loss, correct, len(dl_train.dataset),\n",
    "        100. * correct / len(dl_train.dataset)))"
   ]
  },
  {
   "cell_type": "markdown",
   "metadata": {},
   "source": [
    "Ok, the setup is almost done. The onoly missing part is the optimizer. We are going to use Adam."
   ]
  },
  {
   "cell_type": "code",
   "execution_count": 29,
   "metadata": {},
   "outputs": [],
   "source": [
    "# reinitialize the mlp, so we can play with parameters right here\n",
    "mlp = MLP(nInput, nOutput, nLayer, nHidden, act_fn)\n",
    "optimizer = optim.Adam(mlp.parameters())"
   ]
  },
  {
   "cell_type": "code",
   "execution_count": 30,
   "metadata": {
    "scrolled": true
   },
   "outputs": [
    {
     "name": "stdout",
     "output_type": "stream",
     "text": [
      "Train Epoch: 1 [0/60000 (0%)]\tLoss: 2.314404\n",
      "Train Epoch: 1 [6400/60000 (11%)]\tLoss: 0.660371\n",
      "Train Epoch: 1 [12800/60000 (21%)]\tLoss: 0.437779\n",
      "Train Epoch: 1 [19200/60000 (32%)]\tLoss: 0.325730\n",
      "Train Epoch: 1 [25600/60000 (43%)]\tLoss: 0.260820\n",
      "Train Epoch: 1 [32000/60000 (53%)]\tLoss: 0.373949\n",
      "Train Epoch: 1 [38400/60000 (64%)]\tLoss: 0.284352\n",
      "Train Epoch: 1 [44800/60000 (75%)]\tLoss: 0.259427\n",
      "Train Epoch: 1 [51200/60000 (85%)]\tLoss: 0.389109\n",
      "Train Epoch: 1 [57600/60000 (96%)]\tLoss: 0.291589\n",
      "\n",
      "Train set: Average loss: 0.1410, Accuracy: 51747/60000 (86.2%)\n",
      "\n",
      "\n",
      "Test set: Average loss: 0.2643, Accuracy: 55436/60000 (92.393%)\n",
      "\n",
      "Train Epoch: 2 [0/60000 (0%)]\tLoss: 0.217489\n",
      "Train Epoch: 2 [6400/60000 (11%)]\tLoss: 0.221620\n",
      "Train Epoch: 2 [12800/60000 (21%)]\tLoss: 0.167081\n",
      "Train Epoch: 2 [19200/60000 (32%)]\tLoss: 0.196645\n",
      "Train Epoch: 2 [25600/60000 (43%)]\tLoss: 0.290655\n",
      "Train Epoch: 2 [32000/60000 (53%)]\tLoss: 0.121317\n",
      "Train Epoch: 2 [38400/60000 (64%)]\tLoss: 0.196843\n",
      "Train Epoch: 2 [44800/60000 (75%)]\tLoss: 0.198217\n",
      "Train Epoch: 2 [51200/60000 (85%)]\tLoss: 0.348576\n",
      "Train Epoch: 2 [57600/60000 (96%)]\tLoss: 0.157719\n",
      "\n",
      "Train set: Average loss: 0.4946, Accuracy: 55650/60000 (92.8%)\n",
      "\n",
      "\n",
      "Test set: Average loss: 0.2151, Accuracy: 56276/60000 (93.793%)\n",
      "\n",
      "Train Epoch: 3 [0/60000 (0%)]\tLoss: 0.123269\n",
      "Train Epoch: 3 [6400/60000 (11%)]\tLoss: 0.201918\n",
      "Train Epoch: 3 [12800/60000 (21%)]\tLoss: 0.212354\n",
      "Train Epoch: 3 [19200/60000 (32%)]\tLoss: 0.188491\n",
      "Train Epoch: 3 [25600/60000 (43%)]\tLoss: 0.233227\n",
      "Train Epoch: 3 [32000/60000 (53%)]\tLoss: 0.140171\n",
      "Train Epoch: 3 [38400/60000 (64%)]\tLoss: 0.227163\n",
      "Train Epoch: 3 [44800/60000 (75%)]\tLoss: 0.197655\n",
      "Train Epoch: 3 [51200/60000 (85%)]\tLoss: 0.202189\n",
      "Train Epoch: 3 [57600/60000 (96%)]\tLoss: 0.179470\n",
      "\n",
      "Train set: Average loss: 0.0401, Accuracy: 56227/60000 (93.7%)\n",
      "\n",
      "\n",
      "Test set: Average loss: 0.1964, Accuracy: 56538/60000 (94.230%)\n",
      "\n",
      "Train Epoch: 4 [0/60000 (0%)]\tLoss: 0.103038\n",
      "Train Epoch: 4 [6400/60000 (11%)]\tLoss: 0.197719\n",
      "Train Epoch: 4 [12800/60000 (21%)]\tLoss: 0.143600\n",
      "Train Epoch: 4 [19200/60000 (32%)]\tLoss: 0.069990\n",
      "Train Epoch: 4 [25600/60000 (43%)]\tLoss: 0.525487\n",
      "Train Epoch: 4 [32000/60000 (53%)]\tLoss: 0.423665\n",
      "Train Epoch: 4 [38400/60000 (64%)]\tLoss: 0.263998\n",
      "Train Epoch: 4 [44800/60000 (75%)]\tLoss: 0.131063\n",
      "Train Epoch: 4 [51200/60000 (85%)]\tLoss: 0.227962\n",
      "Train Epoch: 4 [57600/60000 (96%)]\tLoss: 0.219594\n",
      "\n",
      "Train set: Average loss: 0.2523, Accuracy: 56552/60000 (94.3%)\n",
      "\n",
      "\n",
      "Test set: Average loss: 0.1814, Accuracy: 56824/60000 (94.707%)\n",
      "\n",
      "Train Epoch: 5 [0/60000 (0%)]\tLoss: 0.465583\n",
      "Train Epoch: 5 [6400/60000 (11%)]\tLoss: 0.270995\n",
      "Train Epoch: 5 [12800/60000 (21%)]\tLoss: 0.114843\n",
      "Train Epoch: 5 [19200/60000 (32%)]\tLoss: 0.261526\n",
      "Train Epoch: 5 [25600/60000 (43%)]\tLoss: 0.264415\n",
      "Train Epoch: 5 [32000/60000 (53%)]\tLoss: 0.112797\n",
      "Train Epoch: 5 [38400/60000 (64%)]\tLoss: 0.440967\n",
      "Train Epoch: 5 [44800/60000 (75%)]\tLoss: 0.048263\n",
      "Train Epoch: 5 [51200/60000 (85%)]\tLoss: 0.074926\n",
      "Train Epoch: 5 [57600/60000 (96%)]\tLoss: 0.216720\n",
      "\n",
      "Train set: Average loss: 0.0695, Accuracy: 56828/60000 (94.7%)\n",
      "\n",
      "\n",
      "Test set: Average loss: 0.1738, Accuracy: 56877/60000 (94.795%)\n",
      "\n",
      "Train Epoch: 6 [0/60000 (0%)]\tLoss: 0.145640\n",
      "Train Epoch: 6 [6400/60000 (11%)]\tLoss: 0.243335\n",
      "Train Epoch: 6 [12800/60000 (21%)]\tLoss: 0.189656\n",
      "Train Epoch: 6 [19200/60000 (32%)]\tLoss: 0.189550\n",
      "Train Epoch: 6 [25600/60000 (43%)]\tLoss: 0.161775\n",
      "Train Epoch: 6 [32000/60000 (53%)]\tLoss: 0.144744\n",
      "Train Epoch: 6 [38400/60000 (64%)]\tLoss: 0.183090\n",
      "Train Epoch: 6 [44800/60000 (75%)]\tLoss: 0.375954\n",
      "Train Epoch: 6 [51200/60000 (85%)]\tLoss: 0.227377\n",
      "Train Epoch: 6 [57600/60000 (96%)]\tLoss: 0.088602\n",
      "\n",
      "Train set: Average loss: 0.0816, Accuracy: 56957/60000 (94.9%)\n",
      "\n",
      "\n",
      "Test set: Average loss: 0.1505, Accuracy: 57348/60000 (95.580%)\n",
      "\n",
      "Train Epoch: 7 [0/60000 (0%)]\tLoss: 0.136894\n",
      "Train Epoch: 7 [6400/60000 (11%)]\tLoss: 0.264543\n",
      "Train Epoch: 7 [12800/60000 (21%)]\tLoss: 0.117221\n",
      "Train Epoch: 7 [19200/60000 (32%)]\tLoss: 0.097510\n",
      "Train Epoch: 7 [25600/60000 (43%)]\tLoss: 0.138425\n",
      "Train Epoch: 7 [32000/60000 (53%)]\tLoss: 0.121753\n",
      "Train Epoch: 7 [38400/60000 (64%)]\tLoss: 0.117931\n",
      "Train Epoch: 7 [44800/60000 (75%)]\tLoss: 0.150845\n",
      "Train Epoch: 7 [51200/60000 (85%)]\tLoss: 0.059923\n",
      "Train Epoch: 7 [57600/60000 (96%)]\tLoss: 0.104801\n",
      "\n",
      "Train set: Average loss: 0.0623, Accuracy: 57114/60000 (95.2%)\n",
      "\n",
      "\n",
      "Test set: Average loss: 0.1478, Accuracy: 57348/60000 (95.580%)\n",
      "\n",
      "Train Epoch: 8 [0/60000 (0%)]\tLoss: 0.057101\n",
      "Train Epoch: 8 [6400/60000 (11%)]\tLoss: 0.079615\n",
      "Train Epoch: 8 [12800/60000 (21%)]\tLoss: 0.078640\n",
      "Train Epoch: 8 [19200/60000 (32%)]\tLoss: 0.317447\n",
      "Train Epoch: 8 [25600/60000 (43%)]\tLoss: 0.117078\n",
      "Train Epoch: 8 [32000/60000 (53%)]\tLoss: 0.317599\n",
      "Train Epoch: 8 [38400/60000 (64%)]\tLoss: 0.072772\n",
      "Train Epoch: 8 [44800/60000 (75%)]\tLoss: 0.202660\n",
      "Train Epoch: 8 [51200/60000 (85%)]\tLoss: 0.229265\n",
      "Train Epoch: 8 [57600/60000 (96%)]\tLoss: 0.028720\n",
      "\n",
      "Train set: Average loss: 0.3177, Accuracy: 57231/60000 (95.4%)\n",
      "\n",
      "\n",
      "Test set: Average loss: 0.1489, Accuracy: 57386/60000 (95.643%)\n",
      "\n",
      "Train Epoch: 9 [0/60000 (0%)]\tLoss: 0.215269\n",
      "Train Epoch: 9 [6400/60000 (11%)]\tLoss: 0.158255\n",
      "Train Epoch: 9 [12800/60000 (21%)]\tLoss: 0.183782\n",
      "Train Epoch: 9 [19200/60000 (32%)]\tLoss: 0.154830\n",
      "Train Epoch: 9 [25600/60000 (43%)]\tLoss: 0.048400\n",
      "Train Epoch: 9 [32000/60000 (53%)]\tLoss: 0.360399\n",
      "Train Epoch: 9 [38400/60000 (64%)]\tLoss: 0.103483\n",
      "Train Epoch: 9 [44800/60000 (75%)]\tLoss: 0.034292\n",
      "Train Epoch: 9 [51200/60000 (85%)]\tLoss: 0.165067\n",
      "Train Epoch: 9 [57600/60000 (96%)]\tLoss: 0.105811\n",
      "\n",
      "Train set: Average loss: 0.0967, Accuracy: 57314/60000 (95.5%)\n",
      "\n",
      "\n",
      "Test set: Average loss: 0.1432, Accuracy: 57370/60000 (95.617%)\n",
      "\n",
      "Train Epoch: 10 [0/60000 (0%)]\tLoss: 0.078933\n",
      "Train Epoch: 10 [6400/60000 (11%)]\tLoss: 0.101731\n",
      "Train Epoch: 10 [12800/60000 (21%)]\tLoss: 0.074530\n",
      "Train Epoch: 10 [19200/60000 (32%)]\tLoss: 0.179548\n",
      "Train Epoch: 10 [25600/60000 (43%)]\tLoss: 0.100502\n",
      "Train Epoch: 10 [32000/60000 (53%)]\tLoss: 0.203077\n",
      "Train Epoch: 10 [38400/60000 (64%)]\tLoss: 0.055118\n",
      "Train Epoch: 10 [44800/60000 (75%)]\tLoss: 0.234037\n",
      "Train Epoch: 10 [51200/60000 (85%)]\tLoss: 0.182720\n",
      "Train Epoch: 10 [57600/60000 (96%)]\tLoss: 0.107991\n",
      "\n",
      "Train set: Average loss: 0.1491, Accuracy: 57452/60000 (95.8%)\n",
      "\n",
      "\n",
      "Test set: Average loss: 0.1313, Accuracy: 57671/60000 (96.118%)\n",
      "\n",
      "Training is finished.\n"
     ]
    }
   ],
   "source": [
    "epochs = 10\n",
    "for epoch in range(1, epochs + 1):\n",
    "    train(mlp, dl_train, optimizer, epoch, log_interval=100)\n",
    "    test(mlp, dl_test)\n",
    "\n",
    "print ('Training is finished.')"
   ]
  },
  {
   "cell_type": "markdown",
   "metadata": {},
   "source": [
    "After training, you should see test accuracies of > **94%** - By they way, here we report test accuracy, the last exercises reported test error. Accuracy is simply (1 - error). Both metrics are commonly reported, there is no clear preference in literature for one or the other."
   ]
  },
  {
   "cell_type": "markdown",
   "metadata": {},
   "source": [
    "Now, can you do some parameter tuning to boost the test accuracy to > **97%**?"
   ]
  },
  {
   "cell_type": "code",
   "execution_count": 33,
   "metadata": {},
   "outputs": [
    {
     "name": "stdout",
     "output_type": "stream",
     "text": [
      "Train Epoch: 1 [0/60000 (0%)]\tLoss: 2.285174\n",
      "Train Epoch: 1 [6400/60000 (11%)]\tLoss: 0.931601\n",
      "Train Epoch: 1 [12800/60000 (21%)]\tLoss: 0.607602\n",
      "Train Epoch: 1 [19200/60000 (32%)]\tLoss: 0.240996\n",
      "Train Epoch: 1 [25600/60000 (43%)]\tLoss: 0.392191\n",
      "Train Epoch: 1 [32000/60000 (53%)]\tLoss: 0.161474\n",
      "Train Epoch: 1 [38400/60000 (64%)]\tLoss: 0.442183\n",
      "Train Epoch: 1 [44800/60000 (75%)]\tLoss: 0.179713\n",
      "Train Epoch: 1 [51200/60000 (85%)]\tLoss: 0.265052\n",
      "Train Epoch: 1 [57600/60000 (96%)]\tLoss: 0.279389\n",
      "\n",
      "Train set: Average loss: 0.2846, Accuracy: 51748/60000 (86.2%)\n",
      "\n",
      "\n",
      "Test set: Average loss: 0.2262, Accuracy: 55889/60000 (93.148%)\n",
      "\n",
      "Train Epoch: 2 [0/60000 (0%)]\tLoss: 0.169885\n",
      "Train Epoch: 2 [6400/60000 (11%)]\tLoss: 0.103533\n",
      "Train Epoch: 2 [12800/60000 (21%)]\tLoss: 0.252379\n",
      "Train Epoch: 2 [19200/60000 (32%)]\tLoss: 0.145403\n",
      "Train Epoch: 2 [25600/60000 (43%)]\tLoss: 0.310216\n",
      "Train Epoch: 2 [32000/60000 (53%)]\tLoss: 0.076594\n",
      "Train Epoch: 2 [38400/60000 (64%)]\tLoss: 0.244610\n",
      "Train Epoch: 2 [44800/60000 (75%)]\tLoss: 0.093018\n",
      "Train Epoch: 2 [51200/60000 (85%)]\tLoss: 0.104405\n",
      "Train Epoch: 2 [57600/60000 (96%)]\tLoss: 0.077852\n",
      "\n",
      "Train set: Average loss: 0.4201, Accuracy: 56459/60000 (94.1%)\n",
      "\n",
      "\n",
      "Test set: Average loss: 0.1621, Accuracy: 57071/60000 (95.118%)\n",
      "\n",
      "Train Epoch: 3 [0/60000 (0%)]\tLoss: 0.050983\n",
      "Train Epoch: 3 [6400/60000 (11%)]\tLoss: 0.067240\n",
      "Train Epoch: 3 [12800/60000 (21%)]\tLoss: 0.063190\n",
      "Train Epoch: 3 [19200/60000 (32%)]\tLoss: 0.168315\n",
      "Train Epoch: 3 [25600/60000 (43%)]\tLoss: 0.244522\n",
      "Train Epoch: 3 [32000/60000 (53%)]\tLoss: 0.136327\n",
      "Train Epoch: 3 [38400/60000 (64%)]\tLoss: 0.116409\n",
      "Train Epoch: 3 [44800/60000 (75%)]\tLoss: 0.161025\n",
      "Train Epoch: 3 [51200/60000 (85%)]\tLoss: 0.183410\n",
      "Train Epoch: 3 [57600/60000 (96%)]\tLoss: 0.168236\n",
      "\n",
      "Train set: Average loss: 0.0431, Accuracy: 57192/60000 (95.3%)\n",
      "\n",
      "\n",
      "Test set: Average loss: 0.1136, Accuracy: 57944/60000 (96.573%)\n",
      "\n",
      "Train Epoch: 4 [0/60000 (0%)]\tLoss: 0.034353\n",
      "Train Epoch: 4 [6400/60000 (11%)]\tLoss: 0.068483\n",
      "Train Epoch: 4 [12800/60000 (21%)]\tLoss: 0.021528\n",
      "Train Epoch: 4 [19200/60000 (32%)]\tLoss: 0.172637\n",
      "Train Epoch: 4 [25600/60000 (43%)]\tLoss: 0.064576\n",
      "Train Epoch: 4 [32000/60000 (53%)]\tLoss: 0.132742\n",
      "Train Epoch: 4 [38400/60000 (64%)]\tLoss: 0.110603\n",
      "Train Epoch: 4 [44800/60000 (75%)]\tLoss: 0.080862\n",
      "Train Epoch: 4 [51200/60000 (85%)]\tLoss: 0.150200\n",
      "Train Epoch: 4 [57600/60000 (96%)]\tLoss: 0.086364\n",
      "\n",
      "Train set: Average loss: 0.0189, Accuracy: 57691/60000 (96.2%)\n",
      "\n",
      "\n",
      "Test set: Average loss: 0.1050, Accuracy: 58074/60000 (96.790%)\n",
      "\n",
      "Train Epoch: 5 [0/60000 (0%)]\tLoss: 0.087330\n",
      "Train Epoch: 5 [6400/60000 (11%)]\tLoss: 0.133982\n",
      "Train Epoch: 5 [12800/60000 (21%)]\tLoss: 0.078446\n",
      "Train Epoch: 5 [19200/60000 (32%)]\tLoss: 0.033298\n",
      "Train Epoch: 5 [25600/60000 (43%)]\tLoss: 0.117431\n",
      "Train Epoch: 5 [32000/60000 (53%)]\tLoss: 0.062640\n",
      "Train Epoch: 5 [38400/60000 (64%)]\tLoss: 0.037906\n",
      "Train Epoch: 5 [44800/60000 (75%)]\tLoss: 0.072532\n",
      "Train Epoch: 5 [51200/60000 (85%)]\tLoss: 0.171281\n",
      "Train Epoch: 5 [57600/60000 (96%)]\tLoss: 0.077768\n",
      "\n",
      "Train set: Average loss: 0.2383, Accuracy: 57956/60000 (96.6%)\n",
      "\n",
      "\n",
      "Test set: Average loss: 0.0910, Accuracy: 58348/60000 (97.247%)\n",
      "\n",
      "Train Epoch: 6 [0/60000 (0%)]\tLoss: 0.061816\n",
      "Train Epoch: 6 [6400/60000 (11%)]\tLoss: 0.082224\n",
      "Train Epoch: 6 [12800/60000 (21%)]\tLoss: 0.070522\n",
      "Train Epoch: 6 [19200/60000 (32%)]\tLoss: 0.036885\n",
      "Train Epoch: 6 [25600/60000 (43%)]\tLoss: 0.283467\n",
      "Train Epoch: 6 [32000/60000 (53%)]\tLoss: 0.057255\n",
      "Train Epoch: 6 [38400/60000 (64%)]\tLoss: 0.047477\n",
      "Train Epoch: 6 [44800/60000 (75%)]\tLoss: 0.033739\n",
      "Train Epoch: 6 [51200/60000 (85%)]\tLoss: 0.181502\n",
      "Train Epoch: 6 [57600/60000 (96%)]\tLoss: 0.048440\n",
      "\n",
      "Train set: Average loss: 0.0563, Accuracy: 58168/60000 (96.9%)\n",
      "\n",
      "\n",
      "Test set: Average loss: 0.0930, Accuracy: 58289/60000 (97.148%)\n",
      "\n",
      "Train Epoch: 7 [0/60000 (0%)]\tLoss: 0.031688\n",
      "Train Epoch: 7 [6400/60000 (11%)]\tLoss: 0.057385\n",
      "Train Epoch: 7 [12800/60000 (21%)]\tLoss: 0.048634\n",
      "Train Epoch: 7 [19200/60000 (32%)]\tLoss: 0.131538\n",
      "Train Epoch: 7 [25600/60000 (43%)]\tLoss: 0.179874\n",
      "Train Epoch: 7 [32000/60000 (53%)]\tLoss: 0.151146\n",
      "Train Epoch: 7 [38400/60000 (64%)]\tLoss: 0.082746\n",
      "Train Epoch: 7 [44800/60000 (75%)]\tLoss: 0.057157\n",
      "Train Epoch: 7 [51200/60000 (85%)]\tLoss: 0.100074\n",
      "Train Epoch: 7 [57600/60000 (96%)]\tLoss: 0.062801\n",
      "\n",
      "Train set: Average loss: 0.0275, Accuracy: 58278/60000 (97.1%)\n",
      "\n",
      "\n",
      "Test set: Average loss: 0.0748, Accuracy: 58621/60000 (97.702%)\n",
      "\n",
      "Train Epoch: 8 [0/60000 (0%)]\tLoss: 0.024181\n",
      "Train Epoch: 8 [6400/60000 (11%)]\tLoss: 0.084468\n",
      "Train Epoch: 8 [12800/60000 (21%)]\tLoss: 0.018442\n",
      "Train Epoch: 8 [19200/60000 (32%)]\tLoss: 0.015939\n",
      "Train Epoch: 8 [25600/60000 (43%)]\tLoss: 0.121959\n",
      "Train Epoch: 8 [32000/60000 (53%)]\tLoss: 0.047751\n",
      "Train Epoch: 8 [38400/60000 (64%)]\tLoss: 0.061047\n",
      "Train Epoch: 8 [44800/60000 (75%)]\tLoss: 0.060983\n",
      "Train Epoch: 8 [51200/60000 (85%)]\tLoss: 0.046825\n",
      "Train Epoch: 8 [57600/60000 (96%)]\tLoss: 0.188617\n",
      "\n",
      "Train set: Average loss: 0.0903, Accuracy: 58438/60000 (97.4%)\n",
      "\n",
      "\n",
      "Test set: Average loss: 0.0643, Accuracy: 58823/60000 (98.038%)\n",
      "\n",
      "Train Epoch: 9 [0/60000 (0%)]\tLoss: 0.014619\n",
      "Train Epoch: 9 [6400/60000 (11%)]\tLoss: 0.061913\n",
      "Train Epoch: 9 [12800/60000 (21%)]\tLoss: 0.014160\n",
      "Train Epoch: 9 [19200/60000 (32%)]\tLoss: 0.108344\n",
      "Train Epoch: 9 [25600/60000 (43%)]\tLoss: 0.044926\n",
      "Train Epoch: 9 [32000/60000 (53%)]\tLoss: 0.024768\n",
      "Train Epoch: 9 [38400/60000 (64%)]\tLoss: 0.186818\n",
      "Train Epoch: 9 [44800/60000 (75%)]\tLoss: 0.058236\n",
      "Train Epoch: 9 [51200/60000 (85%)]\tLoss: 0.044483\n",
      "Train Epoch: 9 [57600/60000 (96%)]\tLoss: 0.060365\n",
      "\n",
      "Train set: Average loss: 0.0728, Accuracy: 58472/60000 (97.5%)\n",
      "\n",
      "\n",
      "Test set: Average loss: 0.0723, Accuracy: 58681/60000 (97.802%)\n",
      "\n",
      "Train Epoch: 10 [0/60000 (0%)]\tLoss: 0.123760\n",
      "Train Epoch: 10 [6400/60000 (11%)]\tLoss: 0.093001\n",
      "Train Epoch: 10 [12800/60000 (21%)]\tLoss: 0.125609\n",
      "Train Epoch: 10 [19200/60000 (32%)]\tLoss: 0.014595\n",
      "Train Epoch: 10 [25600/60000 (43%)]\tLoss: 0.007189\n",
      "Train Epoch: 10 [32000/60000 (53%)]\tLoss: 0.047197\n",
      "Train Epoch: 10 [38400/60000 (64%)]\tLoss: 0.024260\n",
      "Train Epoch: 10 [44800/60000 (75%)]\tLoss: 0.060632\n",
      "Train Epoch: 10 [51200/60000 (85%)]\tLoss: 0.082902\n",
      "Train Epoch: 10 [57600/60000 (96%)]\tLoss: 0.112379\n",
      "\n",
      "Train set: Average loss: 0.0979, Accuracy: 58610/60000 (97.7%)\n",
      "\n",
      "\n",
      "Test set: Average loss: 0.0618, Accuracy: 58860/60000 (98.100%)\n",
      "\n",
      "Training is finished.\n"
     ]
    }
   ],
   "source": [
    "#########################################################################\n",
    "#TODO: modify the parameters below to see which setting that you can get to 97%\n",
    "#########################################################################\n",
    "nLayer = 4\n",
    "nHidden = 32\n",
    "act_fn = nn.ReLU()\n",
    "\n",
    "# reinitialize the mlp, so we can play with parameters right here\n",
    "mlp = MLP(nInput, nOutput, nLayer, nHidden, act_fn)\n",
    "optimizer = optim.Adam(mlp.parameters())\n",
    "\n",
    "epochs = 10\n",
    "for epoch in range(1, epochs + 1):\n",
    "    train(mlp, dl_train, optimizer, epoch, log_interval=100)\n",
    "    test(mlp, dl_test)\n",
    "\n",
    "print ('Training is finished.')"
   ]
  },
  {
   "cell_type": "markdown",
   "metadata": {},
   "source": [
    "Before you move on to the next exercise, you can further play with the other parameters (learning rate, epochs, a different optimizer, etc.) to get a feeling what can improve or hamper performance. "
   ]
  },
  {
   "cell_type": "markdown",
   "metadata": {},
   "source": [
    "## CNN\n",
    "Alright, we matched our prior performance. Let's surpass it! You will soon see the power of CNN by building a small one yourself. The structure should be as follows\n",
    "\n",
    "| CNN Architecture                             \t|\n",
    "|----------------------------------------------\t|\n",
    "| Conv: $C_{in}=1, C_{out}=32, K=3, S=1, P=0$  \t|\n",
    "| ReLU                                         \t|\n",
    "| Conv: $C_{in}=32, C_{out}=64, K=3, S=1, P=0$ \t|\n",
    "| ReLU                                         \t|\n",
    "| MaxPool2d: $K=2, S=2, P=0$                   \t|\n",
    "| Dropout: $p=0.25$                            \t|\n",
    "| Linear: $C_{in}=9216, C_{out}=128$           \t|\n",
    "| ReLU                                         \t|\n",
    "| Dropout: $p=0.5$                             \t|\n",
    "| Linear: $C_{in}=128, C_{out}=10$             \t|\n",
    "\n",
    "The layers you will need are: \n",
    "\n",
    "`nn.Conv2d,  nn.Linear,  nn.Dropout, nn.MaxPool2d, nn.Flatten`\n",
    "\n",
    "For layers without parameters you can alternatively use function in the forward pass:  \n",
    "\n",
    "`F.max_pool2d, torch.flatten`"
   ]
  },
  {
   "cell_type": "code",
   "execution_count": 48,
   "metadata": {},
   "outputs": [],
   "source": [
    "#########################################################################\n",
    "# TODO: Implement the __init__ and forward method of the CNN class. \n",
    "# Hint: do not forget to flatten the appropriate dimension after the convolutional blocks. \n",
    "# A linear layers expect input of the size (B, H) with batch size B and feature size H\n",
    "#########################################################################\n",
    "\n",
    "class CNN(nn.Module):\n",
    "    def __init__(self):\n",
    "        super(CNN, self).__init__()\n",
    "        self.conv1 = nn.Conv2d(1, 32, 3, stride=1, padding=0)\n",
    "        self.conv2 = nn.Conv2d(32, 64, 3, stride=1, padding=0)\n",
    "        self.maxpool = nn.MaxPool2d(2, stride=2, padding=0)\n",
    "        self.linear1 = nn.Linear(9216, 128)\n",
    "        self.linear2 = nn.Linear(128, 10)\n",
    "        self.dropout1 = nn.Dropout(0.25)\n",
    "        self.dropout2 = nn.Dropout(0.5)\n",
    "\n",
    "    def forward(self, x):\n",
    "        act_fn = nn.ReLU()\n",
    "        x = act_fn(self.conv1(x))\n",
    "        x = act_fn(self.conv2(x))\n",
    "        x = self.maxpool(x)\n",
    "        x = self.dropout1(x)\n",
    "        x = torch.flatten(x, 1)\n",
    "        x = act_fn(self.linear1(x))\n",
    "        x = self.dropout2(x)\n",
    "        x = self.linear2(x)\n",
    "        return x\n"
   ]
  },
  {
   "cell_type": "code",
   "execution_count": 49,
   "metadata": {},
   "outputs": [
    {
     "data": {
      "text/plain": [
       "torch.Size([1, 10])"
      ]
     },
     "execution_count": 49,
     "metadata": {},
     "output_type": "execute_result"
    }
   ],
   "source": [
    "# Let's test if the forward pass works\n",
    "# this should print torch.Size([1, 10])\n",
    "t = torch.randn(1,1,28,28)\n",
    "cnn = CNN()\n",
    "cnn(t).shape"
   ]
  },
  {
   "cell_type": "markdown",
   "metadata": {},
   "source": [
    "Alright, let's train!"
   ]
  },
  {
   "cell_type": "code",
   "execution_count": 50,
   "metadata": {},
   "outputs": [],
   "source": [
    "optimizer = optim.Adam(cnn.parameters())"
   ]
  },
  {
   "cell_type": "code",
   "execution_count": 51,
   "metadata": {
    "scrolled": true
   },
   "outputs": [
    {
     "name": "stdout",
     "output_type": "stream",
     "text": [
      "Train Epoch: 1 [0/60000 (0%)]\tLoss: 2.318244\n",
      "Train Epoch: 1 [6400/60000 (11%)]\tLoss: 0.302844\n",
      "Train Epoch: 1 [12800/60000 (21%)]\tLoss: 0.294309\n",
      "Train Epoch: 1 [19200/60000 (32%)]\tLoss: 0.130406\n",
      "Train Epoch: 1 [25600/60000 (43%)]\tLoss: 0.383249\n",
      "Train Epoch: 1 [32000/60000 (53%)]\tLoss: 0.106348\n",
      "Train Epoch: 1 [38400/60000 (64%)]\tLoss: 0.051471\n",
      "Train Epoch: 1 [44800/60000 (75%)]\tLoss: 0.134464\n",
      "Train Epoch: 1 [51200/60000 (85%)]\tLoss: 0.064008\n",
      "Train Epoch: 1 [57600/60000 (96%)]\tLoss: 0.114974\n",
      "\n",
      "Train set: Average loss: 0.0867, Accuracy: 56490/60000 (94.2%)\n",
      "\n",
      "\n",
      "Test set: Average loss: 0.0437, Accuracy: 59194/60000 (98.657%)\n",
      "\n",
      "Train Epoch: 2 [0/60000 (0%)]\tLoss: 0.053621\n",
      "Train Epoch: 2 [6400/60000 (11%)]\tLoss: 0.088236\n",
      "Train Epoch: 2 [12800/60000 (21%)]\tLoss: 0.195260\n",
      "Train Epoch: 2 [19200/60000 (32%)]\tLoss: 0.033918\n",
      "Train Epoch: 2 [25600/60000 (43%)]\tLoss: 0.081167\n",
      "Train Epoch: 2 [32000/60000 (53%)]\tLoss: 0.017717\n",
      "Train Epoch: 2 [38400/60000 (64%)]\tLoss: 0.210196\n",
      "Train Epoch: 2 [44800/60000 (75%)]\tLoss: 0.062669\n",
      "Train Epoch: 2 [51200/60000 (85%)]\tLoss: 0.059113\n",
      "Train Epoch: 2 [57600/60000 (96%)]\tLoss: 0.073746\n",
      "\n",
      "Train set: Average loss: 0.1028, Accuracy: 58581/60000 (97.6%)\n",
      "\n",
      "\n",
      "Test set: Average loss: 0.0279, Accuracy: 59455/60000 (99.092%)\n",
      "\n",
      "Train Epoch: 3 [0/60000 (0%)]\tLoss: 0.048819\n",
      "Train Epoch: 3 [6400/60000 (11%)]\tLoss: 0.009510\n",
      "Train Epoch: 3 [12800/60000 (21%)]\tLoss: 0.010416\n",
      "Train Epoch: 3 [19200/60000 (32%)]\tLoss: 0.122712\n",
      "Train Epoch: 3 [25600/60000 (43%)]\tLoss: 0.020121\n",
      "Train Epoch: 3 [32000/60000 (53%)]\tLoss: 0.041275\n",
      "Train Epoch: 3 [38400/60000 (64%)]\tLoss: 0.081997\n",
      "Train Epoch: 3 [44800/60000 (75%)]\tLoss: 0.029363\n",
      "Train Epoch: 3 [51200/60000 (85%)]\tLoss: 0.081941\n",
      "Train Epoch: 3 [57600/60000 (96%)]\tLoss: 0.046485\n",
      "\n",
      "Train set: Average loss: 0.0304, Accuracy: 58922/60000 (98.2%)\n",
      "\n",
      "\n",
      "Test set: Average loss: 0.0204, Accuracy: 59608/60000 (99.347%)\n",
      "\n",
      "Train Epoch: 4 [0/60000 (0%)]\tLoss: 0.019848\n",
      "Train Epoch: 4 [6400/60000 (11%)]\tLoss: 0.018145\n",
      "Train Epoch: 4 [12800/60000 (21%)]\tLoss: 0.078504\n",
      "Train Epoch: 4 [19200/60000 (32%)]\tLoss: 0.070964\n",
      "Train Epoch: 4 [25600/60000 (43%)]\tLoss: 0.036639\n",
      "Train Epoch: 4 [32000/60000 (53%)]\tLoss: 0.011183\n",
      "Train Epoch: 4 [38400/60000 (64%)]\tLoss: 0.094901\n",
      "Train Epoch: 4 [44800/60000 (75%)]\tLoss: 0.010952\n",
      "Train Epoch: 4 [51200/60000 (85%)]\tLoss: 0.039852\n",
      "Train Epoch: 4 [57600/60000 (96%)]\tLoss: 0.046479\n",
      "\n",
      "Train set: Average loss: 0.0024, Accuracy: 59087/60000 (98.5%)\n",
      "\n",
      "\n",
      "Test set: Average loss: 0.0116, Accuracy: 59792/60000 (99.653%)\n",
      "\n",
      "Train Epoch: 5 [0/60000 (0%)]\tLoss: 0.004618\n",
      "Train Epoch: 5 [6400/60000 (11%)]\tLoss: 0.017034\n",
      "Train Epoch: 5 [12800/60000 (21%)]\tLoss: 0.003678\n",
      "Train Epoch: 5 [19200/60000 (32%)]\tLoss: 0.139023\n",
      "Train Epoch: 5 [25600/60000 (43%)]\tLoss: 0.042771\n",
      "Train Epoch: 5 [32000/60000 (53%)]\tLoss: 0.011809\n",
      "Train Epoch: 5 [38400/60000 (64%)]\tLoss: 0.058027\n",
      "Train Epoch: 5 [44800/60000 (75%)]\tLoss: 0.077936\n",
      "Train Epoch: 5 [51200/60000 (85%)]\tLoss: 0.030938\n",
      "Train Epoch: 5 [57600/60000 (96%)]\tLoss: 0.033853\n",
      "\n",
      "Train set: Average loss: 0.0265, Accuracy: 59214/60000 (98.7%)\n",
      "\n",
      "\n",
      "Test set: Average loss: 0.0134, Accuracy: 59730/60000 (99.550%)\n",
      "\n"
     ]
    }
   ],
   "source": [
    "epochs = 5\n",
    "for epoch in range(1, epochs + 1):\n",
    "    train(cnn, dl_train, optimizer, epoch, log_interval=100)\n",
    "    test(cnn, dl_test)"
   ]
  },
  {
   "cell_type": "markdown",
   "metadata": {},
   "source": [
    "This will probably take a bit longer to train, as a convolutional network is not very efficient on a CPU. The current settings should get you around **99%** accuracy. Nice! \n",
    "Again, you should try different hyperparameters and see how far you can push the performance."
   ]
  },
  {
   "cell_type": "markdown",
   "metadata": {},
   "source": [
    "### Inline Question\n",
    "\n",
    "If your model weight is randomly initalized, and no training is done as above. What accuracy do you think the model will get for a 10-class classification task in theory?\n",
    "\n",
    "**Your answer**: \n",
    "10%"
   ]
  },
  {
   "cell_type": "markdown",
   "metadata": {},
   "source": [
    "## Training on CIFAR10\n",
    "\n",
    "Now we are going to move to something more challenging - CIFAR10. We can reuse most of the code above. Thankfully, CIFAR is also a popular dataset, so we can again make use of a PyTorch convience function."
   ]
  },
  {
   "cell_type": "code",
   "execution_count": 52,
   "metadata": {},
   "outputs": [
    {
     "name": "stdout",
     "output_type": "stream",
     "text": [
      "Downloading https://www.cs.toronto.edu/~kriz/cifar-10-python.tar.gz to ./data/cifar-10-python.tar.gz\n"
     ]
    },
    {
     "data": {
      "application/vnd.jupyter.widget-view+json": {
       "model_id": "1ab4a990d15f4dda8db4113d16d6fc77",
       "version_major": 2,
       "version_minor": 0
      },
      "text/plain": [
       "  0%|          | 0/170498071 [00:00<?, ?it/s]"
      ]
     },
     "metadata": {},
     "output_type": "display_data"
    },
    {
     "name": "stdout",
     "output_type": "stream",
     "text": [
      "Extracting ./data/cifar-10-python.tar.gz to ./data\n"
     ]
    }
   ],
   "source": [
    "ds_train = datasets.CIFAR10(root='./data', train=True, download=True)"
   ]
  },
  {
   "cell_type": "markdown",
   "metadata": {},
   "source": [
    "This dataset is not normalized yet, so we need to calculate the normalization constants."
   ]
  },
  {
   "cell_type": "code",
   "execution_count": 53,
   "metadata": {},
   "outputs": [],
   "source": [
    "ims_train = torch.tensor(ds_train.data)\n",
    "ims_train = ims_train.float() / 255."
   ]
  },
  {
   "cell_type": "code",
   "execution_count": 54,
   "metadata": {},
   "outputs": [
    {
     "data": {
      "text/plain": [
       "tensor([0.2470, 0.2435, 0.2616])"
      ]
     },
     "execution_count": 54,
     "metadata": {},
     "output_type": "execute_result"
    }
   ],
   "source": [
    "ims_train.std((0,1,2))"
   ]
  },
  {
   "cell_type": "code",
   "execution_count": 57,
   "metadata": {},
   "outputs": [],
   "source": [
    "#########################################################################\n",
    "# TODO: calculate the mean and std of CIFAR\n",
    "# hint: We want the mean and std of the channel dimension, these should\n",
    "# be 3 dimensional\n",
    "#########################################################################\n",
    "mu = torch.mean(ims_train, dim=(0,1,2))\n",
    "std = torch.std(ims_train, dim=(0,1,2))\n"
   ]
  },
  {
   "cell_type": "code",
   "execution_count": 58,
   "metadata": {},
   "outputs": [
    {
     "data": {
      "text/plain": [
       "tensor([0.4914, 0.4822, 0.4465])"
      ]
     },
     "execution_count": 58,
     "metadata": {},
     "output_type": "execute_result"
    }
   ],
   "source": [
    "torch.mean(ims_train, dim=(0,1,2))"
   ]
  },
  {
   "cell_type": "markdown",
   "metadata": {},
   "source": [
    "For CIFAR we want to make use of data augmentation to improve generalization. You will find all data augmentations data are included in torchvision here:\n",
    "\n",
    "https://pytorch.org/docs/stable/torchvision/transforms.html"
   ]
  },
  {
   "cell_type": "code",
   "execution_count": 60,
   "metadata": {},
   "outputs": [
    {
     "name": "stdout",
     "output_type": "stream",
     "text": [
      "Files already downloaded and verified\n",
      "Files already downloaded and verified\n"
     ]
    }
   ],
   "source": [
    "BATCH_SIZE = 128\n",
    "NUM_WORKERS = 4 # if you encounter some unexpected errors in data loading, try setting `NUM_WORKERS = 0`\n",
    "#########################################################################\n",
    "# TODO: Implement the proper transforms for the training and test dataloaders. \n",
    "# Then build train and test dataloaders with batch size 128 and 4 workers\n",
    "#\n",
    "# Train: \n",
    "# - Apply a random crop with size 32 on a padded version of the image with P=4\n",
    "# - Flip the image horizontally with a probability of 40 %\n",
    "# - Transform to a Tensor\n",
    "# - Normalize with the constants calculated above\n",
    "# Test: \n",
    "# - Transform to a Tensor\n",
    "# - Normalize with the constants calculated above\n",
    "#########################################################################\n",
    "transform_train = transforms.Compose([\n",
    "    transforms.RandomCrop(32, padding=4),\n",
    "    transforms.RandomHorizontalFlip(0.4),\n",
    "    transforms.ToTensor(),\n",
    "    transforms.Normalize(mu, std)\n",
    "])\n",
    "transform_test = transforms.Compose([\n",
    "    transforms.ToTensor(),\n",
    "    transforms.Normalize(mu, std)\n",
    "])\n",
    "\n",
    "ds_train = datasets.CIFAR10('./data', train=True, download=True, transform=transform_train)\n",
    "ds_test = datasets.CIFAR10('./data', train=False, download=True, transform=transform_test)\n",
    "\n",
    "dl_train = torch.utils.data.DataLoader(ds_train, batch_size=BATCH_SIZE, num_workers=NUM_WORKERS, shuffle=True)\n",
    "dl_test = torch.utils.data.DataLoader(ds_test, batch_size=BATCH_SIZE, num_workers=NUM_WORKERS)"
   ]
  },
  {
   "cell_type": "markdown",
   "metadata": {},
   "source": [
    "Setting up the  optimizer, this time we use SGD. The scheduler adapts the learning rate during traing (you can ignore it)"
   ]
  },
  {
   "cell_type": "code",
   "execution_count": 61,
   "metadata": {},
   "outputs": [],
   "source": [
    "cnn = CNN()\n",
    "optimizer = optim.SGD(cnn.parameters(), lr=0.1, momentum=0.9, weight_decay=5e-4)\n",
    "scheduler = torch.optim.lr_scheduler.CosineAnnealingLR(optimizer, T_max=200)"
   ]
  },
  {
   "cell_type": "code",
   "execution_count": 62,
   "metadata": {
    "scrolled": true
   },
   "outputs": [
    {
     "ename": "RuntimeError",
     "evalue": "Given groups=1, weight of size [32, 1, 3, 3], expected input[128, 3, 32, 32] to have 1 channels, but got 3 channels instead",
     "output_type": "error",
     "traceback": [
      "\u001b[0;31m---------------------------------------------------------------------------\u001b[0m",
      "\u001b[0;31mRuntimeError\u001b[0m                              Traceback (most recent call last)",
      "\u001b[0;32m/var/folders/0z/_69d4mhx4ls5bs45sdrnztzr0000gq/T/ipykernel_49985/1998290839.py\u001b[0m in \u001b[0;36m<module>\u001b[0;34m\u001b[0m\n\u001b[1;32m      1\u001b[0m \u001b[0mepochs\u001b[0m \u001b[0;34m=\u001b[0m \u001b[0;36m5\u001b[0m\u001b[0;34m\u001b[0m\u001b[0;34m\u001b[0m\u001b[0m\n\u001b[1;32m      2\u001b[0m \u001b[0;32mfor\u001b[0m \u001b[0mepoch\u001b[0m \u001b[0;32min\u001b[0m \u001b[0mrange\u001b[0m\u001b[0;34m(\u001b[0m\u001b[0;36m1\u001b[0m\u001b[0;34m,\u001b[0m \u001b[0mepochs\u001b[0m \u001b[0;34m+\u001b[0m \u001b[0;36m1\u001b[0m\u001b[0;34m)\u001b[0m\u001b[0;34m:\u001b[0m\u001b[0;34m\u001b[0m\u001b[0;34m\u001b[0m\u001b[0m\n\u001b[0;32m----> 3\u001b[0;31m     \u001b[0mtrain\u001b[0m\u001b[0;34m(\u001b[0m\u001b[0mcnn\u001b[0m\u001b[0;34m,\u001b[0m \u001b[0mdl_train\u001b[0m\u001b[0;34m,\u001b[0m \u001b[0moptimizer\u001b[0m\u001b[0;34m,\u001b[0m \u001b[0mepoch\u001b[0m\u001b[0;34m,\u001b[0m \u001b[0mlog_interval\u001b[0m\u001b[0;34m=\u001b[0m\u001b[0;36m100\u001b[0m\u001b[0;34m)\u001b[0m\u001b[0;34m\u001b[0m\u001b[0;34m\u001b[0m\u001b[0m\n\u001b[0m\u001b[1;32m      4\u001b[0m     \u001b[0mtest\u001b[0m\u001b[0;34m(\u001b[0m\u001b[0mcnn\u001b[0m\u001b[0;34m,\u001b[0m \u001b[0mdl_test\u001b[0m\u001b[0;34m)\u001b[0m\u001b[0;34m\u001b[0m\u001b[0;34m\u001b[0m\u001b[0m\n\u001b[1;32m      5\u001b[0m     \u001b[0mscheduler\u001b[0m\u001b[0;34m.\u001b[0m\u001b[0mstep\u001b[0m\u001b[0;34m(\u001b[0m\u001b[0;34m)\u001b[0m\u001b[0;34m\u001b[0m\u001b[0;34m\u001b[0m\u001b[0m\n",
      "\u001b[0;32m/var/folders/0z/_69d4mhx4ls5bs45sdrnztzr0000gq/T/ipykernel_49985/4276159526.py\u001b[0m in \u001b[0;36mtrain\u001b[0;34m(model, dl_train, optimizer, epoch, log_interval, device)\u001b[0m\n\u001b[1;32m     15\u001b[0m \u001b[0;34m\u001b[0m\u001b[0m\n\u001b[1;32m     16\u001b[0m         \u001b[0;31m##### implement this part #####\u001b[0m\u001b[0;34m\u001b[0m\u001b[0;34m\u001b[0m\u001b[0m\n\u001b[0;32m---> 17\u001b[0;31m         \u001b[0moutput\u001b[0m \u001b[0;34m=\u001b[0m \u001b[0mmodel\u001b[0m\u001b[0;34m(\u001b[0m\u001b[0mdata\u001b[0m\u001b[0;34m)\u001b[0m\u001b[0;34m\u001b[0m\u001b[0;34m\u001b[0m\u001b[0m\n\u001b[0m\u001b[1;32m     18\u001b[0m         \u001b[0mloss\u001b[0m \u001b[0;34m=\u001b[0m \u001b[0mF\u001b[0m\u001b[0;34m.\u001b[0m\u001b[0mcross_entropy\u001b[0m\u001b[0;34m(\u001b[0m\u001b[0moutput\u001b[0m\u001b[0;34m,\u001b[0m \u001b[0mtarget\u001b[0m\u001b[0;34m)\u001b[0m\u001b[0;34m\u001b[0m\u001b[0;34m\u001b[0m\u001b[0m\n\u001b[1;32m     19\u001b[0m         \u001b[0mloss\u001b[0m\u001b[0;34m.\u001b[0m\u001b[0mbackward\u001b[0m\u001b[0;34m(\u001b[0m\u001b[0;34m)\u001b[0m\u001b[0;34m\u001b[0m\u001b[0;34m\u001b[0m\u001b[0m\n",
      "\u001b[0;32m/usr/local/lib/python3.9/site-packages/torch/nn/modules/module.py\u001b[0m in \u001b[0;36m_call_impl\u001b[0;34m(self, *input, **kwargs)\u001b[0m\n\u001b[1;32m   1108\u001b[0m         if not (self._backward_hooks or self._forward_hooks or self._forward_pre_hooks or _global_backward_hooks\n\u001b[1;32m   1109\u001b[0m                 or _global_forward_hooks or _global_forward_pre_hooks):\n\u001b[0;32m-> 1110\u001b[0;31m             \u001b[0;32mreturn\u001b[0m \u001b[0mforward_call\u001b[0m\u001b[0;34m(\u001b[0m\u001b[0;34m*\u001b[0m\u001b[0minput\u001b[0m\u001b[0;34m,\u001b[0m \u001b[0;34m**\u001b[0m\u001b[0mkwargs\u001b[0m\u001b[0;34m)\u001b[0m\u001b[0;34m\u001b[0m\u001b[0;34m\u001b[0m\u001b[0m\n\u001b[0m\u001b[1;32m   1111\u001b[0m         \u001b[0;31m# Do not call functions when jit is used\u001b[0m\u001b[0;34m\u001b[0m\u001b[0;34m\u001b[0m\u001b[0m\n\u001b[1;32m   1112\u001b[0m         \u001b[0mfull_backward_hooks\u001b[0m\u001b[0;34m,\u001b[0m \u001b[0mnon_full_backward_hooks\u001b[0m \u001b[0;34m=\u001b[0m \u001b[0;34m[\u001b[0m\u001b[0;34m]\u001b[0m\u001b[0;34m,\u001b[0m \u001b[0;34m[\u001b[0m\u001b[0;34m]\u001b[0m\u001b[0;34m\u001b[0m\u001b[0;34m\u001b[0m\u001b[0m\n",
      "\u001b[0;32m/var/folders/0z/_69d4mhx4ls5bs45sdrnztzr0000gq/T/ipykernel_49985/1593967054.py\u001b[0m in \u001b[0;36mforward\u001b[0;34m(self, x)\u001b[0m\n\u001b[1;32m     18\u001b[0m     \u001b[0;32mdef\u001b[0m \u001b[0mforward\u001b[0m\u001b[0;34m(\u001b[0m\u001b[0mself\u001b[0m\u001b[0;34m,\u001b[0m \u001b[0mx\u001b[0m\u001b[0;34m)\u001b[0m\u001b[0;34m:\u001b[0m\u001b[0;34m\u001b[0m\u001b[0;34m\u001b[0m\u001b[0m\n\u001b[1;32m     19\u001b[0m         \u001b[0mact_fn\u001b[0m \u001b[0;34m=\u001b[0m \u001b[0mnn\u001b[0m\u001b[0;34m.\u001b[0m\u001b[0mReLU\u001b[0m\u001b[0;34m(\u001b[0m\u001b[0;34m)\u001b[0m\u001b[0;34m\u001b[0m\u001b[0;34m\u001b[0m\u001b[0m\n\u001b[0;32m---> 20\u001b[0;31m         \u001b[0mx\u001b[0m \u001b[0;34m=\u001b[0m \u001b[0mact_fn\u001b[0m\u001b[0;34m(\u001b[0m\u001b[0mself\u001b[0m\u001b[0;34m.\u001b[0m\u001b[0mconv1\u001b[0m\u001b[0;34m(\u001b[0m\u001b[0mx\u001b[0m\u001b[0;34m)\u001b[0m\u001b[0;34m)\u001b[0m\u001b[0;34m\u001b[0m\u001b[0;34m\u001b[0m\u001b[0m\n\u001b[0m\u001b[1;32m     21\u001b[0m         \u001b[0mx\u001b[0m \u001b[0;34m=\u001b[0m \u001b[0mact_fn\u001b[0m\u001b[0;34m(\u001b[0m\u001b[0mself\u001b[0m\u001b[0;34m.\u001b[0m\u001b[0mconv2\u001b[0m\u001b[0;34m(\u001b[0m\u001b[0mx\u001b[0m\u001b[0;34m)\u001b[0m\u001b[0;34m)\u001b[0m\u001b[0;34m\u001b[0m\u001b[0;34m\u001b[0m\u001b[0m\n\u001b[1;32m     22\u001b[0m         \u001b[0mx\u001b[0m \u001b[0;34m=\u001b[0m \u001b[0mself\u001b[0m\u001b[0;34m.\u001b[0m\u001b[0mmaxpool\u001b[0m\u001b[0;34m(\u001b[0m\u001b[0mx\u001b[0m\u001b[0;34m)\u001b[0m\u001b[0;34m\u001b[0m\u001b[0;34m\u001b[0m\u001b[0m\n",
      "\u001b[0;32m/usr/local/lib/python3.9/site-packages/torch/nn/modules/module.py\u001b[0m in \u001b[0;36m_call_impl\u001b[0;34m(self, *input, **kwargs)\u001b[0m\n\u001b[1;32m   1108\u001b[0m         if not (self._backward_hooks or self._forward_hooks or self._forward_pre_hooks or _global_backward_hooks\n\u001b[1;32m   1109\u001b[0m                 or _global_forward_hooks or _global_forward_pre_hooks):\n\u001b[0;32m-> 1110\u001b[0;31m             \u001b[0;32mreturn\u001b[0m \u001b[0mforward_call\u001b[0m\u001b[0;34m(\u001b[0m\u001b[0;34m*\u001b[0m\u001b[0minput\u001b[0m\u001b[0;34m,\u001b[0m \u001b[0;34m**\u001b[0m\u001b[0mkwargs\u001b[0m\u001b[0;34m)\u001b[0m\u001b[0;34m\u001b[0m\u001b[0;34m\u001b[0m\u001b[0m\n\u001b[0m\u001b[1;32m   1111\u001b[0m         \u001b[0;31m# Do not call functions when jit is used\u001b[0m\u001b[0;34m\u001b[0m\u001b[0;34m\u001b[0m\u001b[0m\n\u001b[1;32m   1112\u001b[0m         \u001b[0mfull_backward_hooks\u001b[0m\u001b[0;34m,\u001b[0m \u001b[0mnon_full_backward_hooks\u001b[0m \u001b[0;34m=\u001b[0m \u001b[0;34m[\u001b[0m\u001b[0;34m]\u001b[0m\u001b[0;34m,\u001b[0m \u001b[0;34m[\u001b[0m\u001b[0;34m]\u001b[0m\u001b[0;34m\u001b[0m\u001b[0;34m\u001b[0m\u001b[0m\n",
      "\u001b[0;32m/usr/local/lib/python3.9/site-packages/torch/nn/modules/conv.py\u001b[0m in \u001b[0;36mforward\u001b[0;34m(self, input)\u001b[0m\n\u001b[1;32m    445\u001b[0m \u001b[0;34m\u001b[0m\u001b[0m\n\u001b[1;32m    446\u001b[0m     \u001b[0;32mdef\u001b[0m \u001b[0mforward\u001b[0m\u001b[0;34m(\u001b[0m\u001b[0mself\u001b[0m\u001b[0;34m,\u001b[0m \u001b[0minput\u001b[0m\u001b[0;34m:\u001b[0m \u001b[0mTensor\u001b[0m\u001b[0;34m)\u001b[0m \u001b[0;34m->\u001b[0m \u001b[0mTensor\u001b[0m\u001b[0;34m:\u001b[0m\u001b[0;34m\u001b[0m\u001b[0;34m\u001b[0m\u001b[0m\n\u001b[0;32m--> 447\u001b[0;31m         \u001b[0;32mreturn\u001b[0m \u001b[0mself\u001b[0m\u001b[0;34m.\u001b[0m\u001b[0m_conv_forward\u001b[0m\u001b[0;34m(\u001b[0m\u001b[0minput\u001b[0m\u001b[0;34m,\u001b[0m \u001b[0mself\u001b[0m\u001b[0;34m.\u001b[0m\u001b[0mweight\u001b[0m\u001b[0;34m,\u001b[0m \u001b[0mself\u001b[0m\u001b[0;34m.\u001b[0m\u001b[0mbias\u001b[0m\u001b[0;34m)\u001b[0m\u001b[0;34m\u001b[0m\u001b[0;34m\u001b[0m\u001b[0m\n\u001b[0m\u001b[1;32m    448\u001b[0m \u001b[0;34m\u001b[0m\u001b[0m\n\u001b[1;32m    449\u001b[0m \u001b[0;32mclass\u001b[0m \u001b[0mConv3d\u001b[0m\u001b[0;34m(\u001b[0m\u001b[0m_ConvNd\u001b[0m\u001b[0;34m)\u001b[0m\u001b[0;34m:\u001b[0m\u001b[0;34m\u001b[0m\u001b[0;34m\u001b[0m\u001b[0m\n",
      "\u001b[0;32m/usr/local/lib/python3.9/site-packages/torch/nn/modules/conv.py\u001b[0m in \u001b[0;36m_conv_forward\u001b[0;34m(self, input, weight, bias)\u001b[0m\n\u001b[1;32m    441\u001b[0m                             \u001b[0mweight\u001b[0m\u001b[0;34m,\u001b[0m \u001b[0mbias\u001b[0m\u001b[0;34m,\u001b[0m \u001b[0mself\u001b[0m\u001b[0;34m.\u001b[0m\u001b[0mstride\u001b[0m\u001b[0;34m,\u001b[0m\u001b[0;34m\u001b[0m\u001b[0;34m\u001b[0m\u001b[0m\n\u001b[1;32m    442\u001b[0m                             _pair(0), self.dilation, self.groups)\n\u001b[0;32m--> 443\u001b[0;31m         return F.conv2d(input, weight, bias, self.stride,\n\u001b[0m\u001b[1;32m    444\u001b[0m                         self.padding, self.dilation, self.groups)\n\u001b[1;32m    445\u001b[0m \u001b[0;34m\u001b[0m\u001b[0m\n",
      "\u001b[0;31mRuntimeError\u001b[0m: Given groups=1, weight of size [32, 1, 3, 3], expected input[128, 3, 32, 32] to have 1 channels, but got 3 channels instead"
     ]
    }
   ],
   "source": [
    "epochs = 5\n",
    "for epoch in range(1, epochs + 1):\n",
    "    train(cnn, dl_train, optimizer, epoch, log_interval=100)\n",
    "    test(cnn, dl_test)    \n",
    "    scheduler.step()"
   ]
  },
  {
   "cell_type": "markdown",
   "metadata": {},
   "source": [
    "This will not work. You should see the following error message\n",
    "\n",
    "```\n",
    "Given groups=1, weight of size [32, 1, 3, 3], expected input[128, 3, 32, 32] to have 1 channels, but got 3 channels instead\n",
    "```\n",
    "\n",
    "This error is telling us that something is not right in the definition of our model. Copy the CNN class from above and make changes, so the training works."
   ]
  },
  {
   "cell_type": "code",
   "execution_count": 88,
   "metadata": {},
   "outputs": [
    {
     "data": {
      "text/plain": [
       "torch.Size([1, 10])"
      ]
     },
     "execution_count": 88,
     "metadata": {},
     "output_type": "execute_result"
    }
   ],
   "source": [
    "#########################################################################\n",
    "# TODO: Adapt the definition from the CNN class above to work on CIFAR.\n",
    "# You can copy and run the following prompt for evaluation:\n",
    "# CNN()(torch.randn(1,3,32,32)).shape\n",
    "# It should print 'torch.Size([1, 10])'\n",
    "# Hint: You need to change 2 things. \n",
    "#########################################################################\n",
    "\n",
    "class CNN(nn.Module):\n",
    "    def __init__(self):\n",
    "        super(CNN, self).__init__()\n",
    "        self.conv1 = nn.Conv2d(3, 32, 3, stride=1, padding=0)\n",
    "        self.conv2 = nn.Conv2d(32, 64, 3, stride=1, padding=0)\n",
    "        self.maxpool = nn.MaxPool2d(2, stride=2, padding=0)\n",
    "        self.linear1 = nn.Linear(12544, 128)\n",
    "        self.linear2 = nn.Linear(128, 10)\n",
    "        self.dropout1 = nn.Dropout(0.25)\n",
    "        self.dropout2 = nn.Dropout(0.5)\n",
    "\n",
    "    def forward(self, x):\n",
    "        act_fn = nn.ReLU()\n",
    "        x = act_fn(self.conv1(x))\n",
    "        x = act_fn(self.conv2(x))\n",
    "        x = self.maxpool(x)\n",
    "        x = self.dropout1(x)\n",
    "        x = torch.flatten(x, 1)\n",
    "        x = act_fn(self.linear1(x))\n",
    "        x = self.dropout2(x)\n",
    "        x = self.linear2(x)\n",
    "        return x\n",
    "CNN()(torch.randn(1,3,32,32)).shape"
   ]
  },
  {
   "cell_type": "markdown",
   "metadata": {},
   "source": [
    "Let's try again"
   ]
  },
  {
   "cell_type": "code",
   "execution_count": 89,
   "metadata": {
    "scrolled": true
   },
   "outputs": [
    {
     "name": "stdout",
     "output_type": "stream",
     "text": [
      "Train Epoch: 1 [0/50000 (0%)]\tLoss: 2.312118\n",
      "Train Epoch: 1 [12800/50000 (26%)]\tLoss: 1.992570\n",
      "Train Epoch: 1 [25600/50000 (51%)]\tLoss: 2.074434\n",
      "Train Epoch: 1 [38400/50000 (77%)]\tLoss: 1.893184\n",
      "\n",
      "Train set: Average loss: 1.8466, Accuracy: 12741/50000 (25.5%)\n",
      "\n",
      "\n",
      "Test set: Average loss: 1.6641, Accuracy: 3944/10000 (39.440%)\n",
      "\n",
      "Train Epoch: 2 [0/50000 (0%)]\tLoss: 1.712135\n",
      "Train Epoch: 2 [12800/50000 (26%)]\tLoss: 1.855127\n",
      "Train Epoch: 2 [25600/50000 (51%)]\tLoss: 1.795027\n",
      "Train Epoch: 2 [38400/50000 (77%)]\tLoss: 1.713013\n",
      "\n",
      "Train set: Average loss: 1.6816, Accuracy: 16833/50000 (33.7%)\n",
      "\n",
      "\n",
      "Test set: Average loss: 1.5778, Accuracy: 4199/10000 (41.990%)\n",
      "\n",
      "Train Epoch: 3 [0/50000 (0%)]\tLoss: 1.711145\n",
      "Train Epoch: 3 [12800/50000 (26%)]\tLoss: 1.863366\n",
      "Train Epoch: 3 [25600/50000 (51%)]\tLoss: 1.679894\n",
      "Train Epoch: 3 [38400/50000 (77%)]\tLoss: 1.620438\n",
      "\n",
      "Train set: Average loss: 1.6005, Accuracy: 17703/50000 (35.4%)\n",
      "\n",
      "\n",
      "Test set: Average loss: 1.4798, Accuracy: 4617/10000 (46.170%)\n",
      "\n",
      "Train Epoch: 4 [0/50000 (0%)]\tLoss: 1.703972\n",
      "Train Epoch: 4 [12800/50000 (26%)]\tLoss: 1.739045\n",
      "Train Epoch: 4 [25600/50000 (51%)]\tLoss: 1.678341\n",
      "Train Epoch: 4 [38400/50000 (77%)]\tLoss: 1.700276\n",
      "\n",
      "Train set: Average loss: 1.7800, Accuracy: 18629/50000 (37.3%)\n",
      "\n",
      "\n",
      "Test set: Average loss: 1.4896, Accuracy: 4513/10000 (45.130%)\n",
      "\n",
      "Train Epoch: 5 [0/50000 (0%)]\tLoss: 1.587468\n",
      "Train Epoch: 5 [12800/50000 (26%)]\tLoss: 1.765357\n",
      "Train Epoch: 5 [25600/50000 (51%)]\tLoss: 1.898596\n",
      "Train Epoch: 5 [38400/50000 (77%)]\tLoss: 1.662933\n",
      "\n",
      "Train set: Average loss: 1.5670, Accuracy: 18971/50000 (37.9%)\n",
      "\n",
      "\n",
      "Test set: Average loss: 1.5413, Accuracy: 4297/10000 (42.970%)\n",
      "\n",
      "Train Epoch: 6 [0/50000 (0%)]\tLoss: 1.714331\n",
      "Train Epoch: 6 [12800/50000 (26%)]\tLoss: 1.755744\n",
      "Train Epoch: 6 [25600/50000 (51%)]\tLoss: 1.624011\n",
      "Train Epoch: 6 [38400/50000 (77%)]\tLoss: 1.623610\n",
      "\n",
      "Train set: Average loss: 1.7605, Accuracy: 19095/50000 (38.2%)\n",
      "\n",
      "\n",
      "Test set: Average loss: 1.4781, Accuracy: 4662/10000 (46.620%)\n",
      "\n",
      "Train Epoch: 7 [0/50000 (0%)]\tLoss: 1.634845\n",
      "Train Epoch: 7 [12800/50000 (26%)]\tLoss: 1.869452\n",
      "Train Epoch: 7 [25600/50000 (51%)]\tLoss: 1.806862\n",
      "Train Epoch: 7 [38400/50000 (77%)]\tLoss: 1.773478\n",
      "\n",
      "Train set: Average loss: 1.6661, Accuracy: 19748/50000 (39.5%)\n",
      "\n",
      "\n",
      "Test set: Average loss: 1.4431, Accuracy: 4773/10000 (47.730%)\n",
      "\n",
      "Train Epoch: 8 [0/50000 (0%)]\tLoss: 1.646737\n",
      "Train Epoch: 8 [12800/50000 (26%)]\tLoss: 1.715773\n",
      "Train Epoch: 8 [25600/50000 (51%)]\tLoss: 1.700376\n",
      "Train Epoch: 8 [38400/50000 (77%)]\tLoss: 1.652541\n",
      "\n",
      "Train set: Average loss: 1.5083, Accuracy: 19370/50000 (38.7%)\n",
      "\n",
      "\n",
      "Test set: Average loss: 1.4835, Accuracy: 4678/10000 (46.780%)\n",
      "\n",
      "Train Epoch: 9 [0/50000 (0%)]\tLoss: 1.651483\n",
      "Train Epoch: 9 [12800/50000 (26%)]\tLoss: 1.675920\n",
      "Train Epoch: 9 [25600/50000 (51%)]\tLoss: 1.618416\n",
      "Train Epoch: 9 [38400/50000 (77%)]\tLoss: 1.660817\n",
      "\n",
      "Train set: Average loss: 1.5666, Accuracy: 19978/50000 (40.0%)\n",
      "\n",
      "\n",
      "Test set: Average loss: 1.4086, Accuracy: 4854/10000 (48.540%)\n",
      "\n",
      "Train Epoch: 10 [0/50000 (0%)]\tLoss: 1.654745\n",
      "Train Epoch: 10 [12800/50000 (26%)]\tLoss: 1.727456\n",
      "Train Epoch: 10 [25600/50000 (51%)]\tLoss: 1.583450\n",
      "Train Epoch: 10 [38400/50000 (77%)]\tLoss: 1.607794\n",
      "\n",
      "Train set: Average loss: 1.4895, Accuracy: 20369/50000 (40.7%)\n",
      "\n",
      "\n",
      "Test set: Average loss: 1.4378, Accuracy: 4843/10000 (48.430%)\n",
      "\n"
     ]
    }
   ],
   "source": [
    "cnn = CNN()\n",
    "optimizer = optim.SGD(cnn.parameters(), lr=0.1, momentum=0.9, weight_decay=5e-4)\n",
    "scheduler = torch.optim.lr_scheduler.CosineAnnealingLR(optimizer, T_max=200)\n",
    "\n",
    "epochs = 10\n",
    "for epoch in range(1, epochs + 1):\n",
    "    train(cnn, dl_train, optimizer, epoch, log_interval=100)\n",
    "    test(cnn, dl_test)    \n",
    "    scheduler.step()"
   ]
  },
  {
   "cell_type": "markdown",
   "metadata": {},
   "source": [
    "This should give 40 - 50 % - and if you are not already on Colab it will give you a stressed out laptop. The performance is a lot better than random, but we can definitely do better."
   ]
  },
  {
   "cell_type": "markdown",
   "metadata": {},
   "source": [
    "### Have fun with GPUs\n",
    "You can already call it a day until this point because we won't grade the rest of the excecise. You can have more fun with the rest :)\n"
   ]
  },
  {
   "cell_type": "markdown",
   "metadata": {},
   "source": [
    "\n",
    "If you didn't already, move to colab. To use a GPU, follow on the collaboratory menu tabs, \"Runtime\" => \"Change runtime type\" and set it to GPU. Then run the same training loop but now on GPU. \n",
    "\n",
    "It as easy as:"
   ]
  },
  {
   "cell_type": "code",
   "execution_count": null,
   "metadata": {},
   "outputs": [],
   "source": [
    "device = 'cuda'\n",
    "if device == 'cuda': torch.backends.cudnn.benchmark = True # additional speed up\n",
    "\n",
    "cnn = CNN()\n",
    "optimizer = optim.SGD(cnn.parameters(), lr=0.1, momentum=0.9, weight_decay=5e-4)\n",
    "scheduler = torch.optim.lr_scheduler.CosineAnnealingLR(optimizer, T_max=200)\n",
    "cnn = cnn.to(device)\n",
    "\n",
    "epochs = 10\n",
    "for epoch in range(1, epochs + 1):\n",
    "    train(cnn, dl_train, optimizer, epoch, log_interval=100, device=device)\n",
    "    test(cnn, dl_test, device=device)    \n",
    "    scheduler.step()"
   ]
  },
  {
   "cell_type": "markdown",
   "metadata": {},
   "source": [
    "This should be way faster now. But the true advantage of the GPU is that we can use much bigger models now and still train them in a reasonable amount of time. PyTorch is again very handy. The torchvision library comes with varies state-of-the-art model architectures, some of which you have seen in the lecture."
   ]
  },
  {
   "cell_type": "code",
   "execution_count": null,
   "metadata": {},
   "outputs": [],
   "source": [
    "from torchvision.models import resnet18"
   ]
  },
  {
   "cell_type": "code",
   "execution_count": null,
   "metadata": {
    "scrolled": true
   },
   "outputs": [],
   "source": [
    "cnn = resnet18()\n",
    "print(cnn)"
   ]
  },
  {
   "cell_type": "markdown",
   "metadata": {},
   "source": [
    "Looks scary! But the only thing you need to change to make it work on CIFAR is the last layer.\n",
    "Currently the last layer is:\n",
    "```\n",
    "  (fc): Linear(in_features=512, out_features=1000, bias=True)\n",
    "```\n",
    "out_features is the number of classes. This models are developed for Imagenet, a dataset with 1000 classes. So this part of the model you need to adapt. Additionally, you need to add a log-softmax layer again, as we us negative log-likelihood as the training criterion. "
   ]
  },
  {
   "cell_type": "code",
   "execution_count": null,
   "metadata": {},
   "outputs": [],
   "source": [
    "#########################################################################\n",
    "# TODO: Adapt the Resnet to work on CIFAR\n",
    "#########################################################################\n"
   ]
  },
  {
   "cell_type": "code",
   "execution_count": null,
   "metadata": {},
   "outputs": [],
   "source": [
    "# This should print 'torch.Size([16, 10])'\n",
    "cnn(torch.randn(16,3,32,32)).shape"
   ]
  },
  {
   "cell_type": "code",
   "execution_count": null,
   "metadata": {},
   "outputs": [],
   "source": [
    "device = 'cuda'\n",
    "if device == 'cuda': torch.backends.cudnn.benchmark = True # this gives us additional speed up\n",
    "\n",
    "optimizer = optim.SGD(cnn.parameters(), lr=0.1, momentum=0.9, weight_decay=5e-4)\n",
    "scheduler = torch.optim.lr_scheduler.CosineAnnealingLR(optimizer, T_max=200)\n",
    "cnn = cnn.to(device)\n",
    "\n",
    "epochs = 50\n",
    "for epoch in range(1, epochs + 1):\n",
    "    train(cnn, dl_train, optimizer, epoch, log_interval=100, device=device)\n",
    "    test(cnn, dl_test, device=device)    \n",
    "    scheduler.step()"
   ]
  },
  {
   "cell_type": "markdown",
   "metadata": {},
   "source": [
    "This should get us well above 75%, the best we got was ~ 80%.\n",
    "\n",
    "Now, use different torchvision architectures, different optimizers (Adam is always a good choice), data augmentation techniques, and hyperparameter search to achieve a test accuracy of >90 %"
   ]
  },
  {
   "cell_type": "code",
   "execution_count": null,
   "metadata": {},
   "outputs": [],
   "source": []
  }
 ],
 "metadata": {
  "kernelspec": {
   "display_name": "Python 3 (ipykernel)",
   "language": "python",
   "name": "python3"
  },
  "language_info": {
   "codemirror_mode": {
    "name": "ipython",
    "version": 3
   },
   "file_extension": ".py",
   "mimetype": "text/x-python",
   "name": "python",
   "nbconvert_exporter": "python",
   "pygments_lexer": "ipython3",
   "version": "3.9.14"
  },
  "vscode": {
   "interpreter": {
    "hash": "d268b61a0efacafa8645774cb6d0204c9f01d7563ef03f7672146d044e8f345c"
   }
  }
 },
 "nbformat": 4,
 "nbformat_minor": 4
}
